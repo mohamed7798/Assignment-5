{
 "cells": [
  {
   "cell_type": "code",
   "execution_count": 1,
   "id": "2330eb39",
   "metadata": {},
   "outputs": [],
   "source": [
    "import numpy as np"
   ]
  },
  {
   "cell_type": "markdown",
   "id": "b6b76644",
   "metadata": {},
   "source": [
    "# 1-Write a NumPy program to test whether none of the elements of a given array is zero."
   ]
  },
  {
   "cell_type": "code",
   "execution_count": 25,
   "id": "54a1bf61",
   "metadata": {},
   "outputs": [
    {
     "name": "stdout",
     "output_type": "stream",
     "text": [
      "Original array:\n",
      "[1 3 4 5]\n",
      "Test whether any of the elements of a given array is zero:\n",
      "False\n",
      "##################################################\n",
      "Original array:\n",
      "[0 2 3 6]\n",
      "##################################################\n",
      "Test whether any of the elements of a given array is zero:\n",
      "False\n",
      "##################################################\n",
      "Test whether any of the elements of a given array is non-zero:\n",
      "True\n",
      "##################################################\n",
      "Original array:\n",
      "[0 0 0 0]\n",
      "Test whether any of the elements of a given array is zero:\n",
      "False\n"
     ]
    }
   ],
   "source": [
    "def test(lst):\n",
    "    count = 0\n",
    "    for val in lst:\n",
    "        if val != 0:\n",
    "            count += 1\n",
    "        if count == len(lst):\n",
    "            return True\n",
    "        else:\n",
    "            return False\n",
    "x = np.array([1, 3, 4, 5])\n",
    "y = np.array([0, 2, 3, 6])\n",
    "print(\"Original array:\")\n",
    "print(x)\n",
    "print(\"Test whether any of the elements of a given array is zero:\")\n",
    "print(test(x))\n",
    "print('#'*50)\n",
    "print(\"Original array:\")\n",
    "print(y)\n",
    "print('#'*50)\n",
    "print(\"Test whether any of the elements of a given array is zero:\")\n",
    "print(test(y))\n",
    "print('#'*50)\n",
    "print(\"Test whether any of the elements of a given array is non-zero:\")\n",
    "print(np.any(x))\n",
    "print('#'*50)\n",
    "x = np.array([0, 0, 0, 0])\n",
    "print(\"Original array:\")\n",
    "print(x)\n",
    "print(\"Test whether any of the elements of a given array is zero:\")\n",
    "print(np.all(x))"
   ]
  },
  {
   "cell_type": "markdown",
   "id": "a8a0df5d",
   "metadata": {},
   "source": [
    "# 2-Write a NumPy program to test whether any of the elements of a given array is non-zero"
   ]
  },
  {
   "cell_type": "code",
   "execution_count": 26,
   "id": "a2460a7d",
   "metadata": {},
   "outputs": [
    {
     "name": "stdout",
     "output_type": "stream",
     "text": [
      "[ 4  6  0  0  0  4 89]\n",
      "True\n",
      "##################################################\n",
      "True\n"
     ]
    }
   ],
   "source": [
    "def test(lst):\n",
    "    count = 0\n",
    "    for val in lst:\n",
    "        if val != 0:\n",
    "            count += 1\n",
    "    if count > 0:\n",
    "        return True\n",
    "    else:\n",
    "        return False\n",
    "# Original array\n",
    "array = np.array([4,6,0,0,0,4,89])\n",
    "print(array)\n",
    "  \n",
    "# Test whether any of the elements\n",
    "# of a given array is non-zero\n",
    "print(test(array))\n",
    "print('#'*50)\n",
    "print(np.any(array))"
   ]
  },
  {
   "cell_type": "markdown",
   "id": "629346ff",
   "metadata": {},
   "source": [
    "# 3-Write a NumPy program to create an element-wise comparison (equal, equal within a tolerance) of two given "
   ]
  },
  {
   "cell_type": "code",
   "execution_count": 27,
   "id": "17b7068b",
   "metadata": {},
   "outputs": [
    {
     "name": "stdout",
     "output_type": "stream",
     "text": [
      "Original numbers:\n",
      "[  72   79   85   90  150 -135  120  -10   60   70]\n",
      "[  72   79   85   90  150 -135  120  -10   60   70]\n",
      "##################################################\n",
      "Comparison - equal:\n",
      "[ True  True  True  True  True  True  True  True  True  True]\n",
      "##################################################\n",
      "Comparison - equal within a tolerance:\n",
      "True\n",
      "##################################################\n",
      "Comparison - equal within a tolerance:\n",
      "True\n"
     ]
    }
   ],
   "source": [
    "def tolerance(lst1,lst2):\n",
    "    length = len(lst1)\n",
    "    try:\n",
    "        if length == len(lst2):\n",
    "            count = 0\n",
    "            for index,value in enumerate(lst1):\n",
    "                if lst1[index] == lst2[index]:\n",
    "                    count +=1\n",
    "            if count == length:\n",
    "                return True\n",
    "            else:\n",
    "                return False\n",
    "    except Exception as e:\n",
    "        print(e,'two lists are not equal in length')\n",
    "x = np.array([72, 79, 85, 90, 150, -135, 120, -10, 60, 70])\n",
    "y = np.array([72, 79, 85, 90, 150, -135, 120, -10, 60, 70])\n",
    "print(\"Original numbers:\")\n",
    "print(x)\n",
    "print(y)\n",
    "print('#'*50)\n",
    "print(\"Comparison - equal:\")\n",
    "print(np.equal(x, y))\n",
    "print('#'*50)\n",
    "print(\"Comparison - equal within a tolerance:\")\n",
    "print(tolerance(x,y))\n",
    "print('#'*50)\n",
    "print(\"Comparison - equal within a tolerance:\")\n",
    "print(np.allclose(x, y))"
   ]
  },
  {
   "cell_type": "markdown",
   "id": "c5c68409",
   "metadata": {},
   "source": [
    "# 4-Write a NumPy program to create an array of 10 zeros,10 ones, 10 fives.\n"
   ]
  },
  {
   "cell_type": "code",
   "execution_count": 32,
   "id": "1355bdce",
   "metadata": {},
   "outputs": [
    {
     "name": "stdout",
     "output_type": "stream",
     "text": [
      "An array of 10 zeros:\n",
      "[0 0 0 0 0 0 0 0 0 0]\n",
      "##################################################\n",
      "An array of 10 zeros:\n",
      "[0. 0. 0. 0. 0. 0. 0. 0. 0. 0.]\n",
      "##################################################\n",
      "An array of 10 ones:\n",
      "[1 1 1 1 1 1 1 1 1 1]\n",
      "##################################################\n",
      "An array of 10 ones:\n",
      "[1. 1. 1. 1. 1. 1. 1. 1. 1. 1.]\n",
      "##################################################\n",
      "An array of 10 fives:\n",
      "[5 5 5 5 5 5 5 5 5 5]\n",
      "##################################################\n",
      "An array of 10 fives:\n",
      "[5. 5. 5. 5. 5. 5. 5. 5. 5. 5.]\n"
     ]
    }
   ],
   "source": [
    "def zero(num):\n",
    "    lst = []\n",
    "    for i in range(num):\n",
    "        lst.append(0)\n",
    "    return np.array(lst)\n",
    "def one(num):\n",
    "    lst = []\n",
    "    for i in range(num):\n",
    "        lst.append(1)\n",
    "    return np.array(lst)\n",
    "def five(num):\n",
    "    lst = []\n",
    "    for i in range(num):\n",
    "        lst.append(5)\n",
    "    return np.array(lst)\n",
    "array = zero(10)\n",
    "print(\"An array of 10 zeros:\")\n",
    "print(array)\n",
    "print('#'*50)\n",
    "array = np.zeros(10)\n",
    "print(\"An array of 10 zeros:\")\n",
    "print(array)\n",
    "print('#'*50)\n",
    "array = one(10)\n",
    "print(\"An array of 10 ones:\")\n",
    "print(array)\n",
    "print('#'*50)\n",
    "array = np.ones(10)\n",
    "print(\"An array of 10 ones:\")\n",
    "print(array)\n",
    "print('#'*50)\n",
    "array = five(10)\n",
    "print(\"An array of 10 fives:\")\n",
    "print(array)\n",
    "print('#'*50)\n",
    "array = np.ones(10)*5\n",
    "print(\"An array of 10 fives:\")\n",
    "print(array)"
   ]
  },
  {
   "cell_type": "markdown",
   "id": "993b3e99",
   "metadata": {},
   "source": [
    "# 5-Write a NumPy program to create an array of the integers from 30 to70."
   ]
  },
  {
   "cell_type": "code",
   "execution_count": 35,
   "id": "4352ac53",
   "metadata": {},
   "outputs": [
    {
     "name": "stdout",
     "output_type": "stream",
     "text": [
      "Array of the integers from 30 to 70\n",
      "[30 31 32 33 34 35 36 37 38 39 40 41 42 43 44 45 46 47 48 49 50 51 52 53\n",
      " 54 55 56 57 58 59 60 61 62 63 64 65 66 67 68 69 70]\n",
      "##################################################\n",
      "Array of the integers from 30 to70\n",
      "[30 31 32 33 34 35 36 37 38 39 40 41 42 43 44 45 46 47 48 49 50 51 52 53\n",
      " 54 55 56 57 58 59 60 61 62 63 64 65 66 67 68 69 70]\n"
     ]
    }
   ],
   "source": [
    "def array():\n",
    "    lst = []\n",
    "    for i in range(30,71):\n",
    "        lst.append(i)\n",
    "    return np.array(lst)\n",
    "print('Array of the integers from 30 to 70')\n",
    "print(array())\n",
    "print('#'*50)\n",
    "array=np.arange(30,71)\n",
    "print(\"Array of the integers from 30 to70\")\n",
    "print(array)"
   ]
  },
  {
   "cell_type": "markdown",
   "id": "df0904e7",
   "metadata": {},
   "source": [
    "# 6-Write a NumPy program to create a 3x3 identity matrix "
   ]
  },
  {
   "cell_type": "code",
   "execution_count": 47,
   "id": "d90ec8c9",
   "metadata": {},
   "outputs": [
    {
     "name": "stdout",
     "output_type": "stream",
     "text": [
      "3*3 martix:\n",
      "[[0 3 6]\n",
      " [0 3 6]\n",
      " [0 3 6]]\n",
      "##################################################\n",
      "3*3 matrix:\n",
      "[[1. 0. 0.]\n",
      " [0. 1. 0.]\n",
      " [0. 0. 1.]]\n",
      "##################################################\n",
      "4*4 matrix:\n",
      "[[0 3 6 9]\n",
      " [0 3 6 9]\n",
      " [0 3 6 9]\n",
      " [0 3 6 9]]\n",
      "##################################################\n",
      "4*4 matrix:\n",
      "[[1. 0. 0. 0.]\n",
      " [0. 1. 0. 0.]\n",
      " [0. 0. 1. 0.]\n",
      " [0. 0. 0. 1.]]\n"
     ]
    }
   ],
   "source": [
    "def array_2Dim(num1,num2):\n",
    "    lst1 = []\n",
    "    lst2 = []\n",
    "    for i in range(num1):\n",
    "        for i2 in range(num2):\n",
    "            lst1.append(i2*3)\n",
    "        lst2.append(lst1)\n",
    "        lst1 = []\n",
    "    return np.array(lst2)\n",
    "print('3*3 martix:')\n",
    "array_2D = array_2Dim(3,3)\n",
    "print(array_2D)\n",
    "print('#'*50)\n",
    "array_2D = np.identity(3)\n",
    "print('3*3 matrix:')\n",
    "print(array_2D)\n",
    "print('#'*50)\n",
    "print('4*4 matrix:')\n",
    "array_2D = array_2Dim(4,4)\n",
    "print(array_2D)\n",
    "print('#'*50)\n",
    "array_2D = np.identity(4)\n",
    "print('4*4 matrix:')\n",
    "print(array_2D)"
   ]
  },
  {
   "cell_type": "markdown",
   "id": "08c80719",
   "metadata": {},
   "source": [
    "# 7-Write a NumPy program to generate a random number between 0 and 1 "
   ]
  },
  {
   "cell_type": "code",
   "execution_count": 74,
   "id": "81076416",
   "metadata": {},
   "outputs": [
    {
     "name": "stdout",
     "output_type": "stream",
     "text": [
      "Random number between 0 and 1:\n",
      "0.03\n",
      "Random number between 0 and 1:\n",
      "[0.38524692]\n"
     ]
    }
   ],
   "source": [
    "def rand(num):\n",
    "    num = num * 10\n",
    "    num = num /1000\n",
    "    return num\n",
    "print(\"Random number between 0 and 1:\")\n",
    "print(rand(3))\n",
    "rand_num = np.random.normal(0,1,1)\n",
    "print(\"Random number between 0 and 1:\")\n",
    "print(rand_num)"
   ]
  },
  {
   "cell_type": "markdown",
   "id": "d2471b91",
   "metadata": {},
   "source": [
    "# 8-Write a NumPy program to generate an array of 15 random numbers from a standard normal distribution "
   ]
  },
  {
   "cell_type": "code",
   "execution_count": 85,
   "id": "fadae4e0",
   "metadata": {},
   "outputs": [
    {
     "name": "stdout",
     "output_type": "stream",
     "text": [
      "[0.0, 0.01, 0.02, 0.03, 0.04, 0.05, 0.06, 0.07, 0.08, 0.09, 0.1, 0.11, 0.12, 0.13, 0.14]\n",
      "##################################################\n",
      "15 random numbers from a standard normal distribution:\n",
      "[-1.64683196 -0.24958601 -0.75619767  0.02489204 -0.69558787  0.30031297\n",
      "  1.21550768  0.32824629 -0.65951299 -1.22507676  0.36985136 -0.77754479\n",
      " -0.24239867 -0.63637475 -1.02551636]\n"
     ]
    }
   ],
   "source": [
    "def rand(start,end,size):\n",
    "    lst = []\n",
    "    for i in range(size):\n",
    "        num = ((i+start) * end)/100\n",
    "        lst.append(num)\n",
    "    return lst\n",
    "print(rand(0,1,15))\n",
    "print('#'*50)\n",
    "rand_num = np.random.normal(0,1,15)\n",
    "print(\"15 random numbers from a standard normal distribution:\")\n",
    "print(rand_num)"
   ]
  },
  {
   "cell_type": "markdown",
   "id": "68014fb2",
   "metadata": {},
   "source": [
    "# 9-Write a NumPy program to create a vector with values ranging from 15 to 55 and print all values except the first and last.\n"
   ]
  },
  {
   "cell_type": "code",
   "execution_count": 88,
   "id": "9e35d8e2",
   "metadata": {},
   "outputs": [
    {
     "name": "stdout",
     "output_type": "stream",
     "text": [
      "All values except the first and last of the said vector:\n",
      "[16, 17, 18, 19, 20, 21, 22, 23, 24, 25, 26, 27, 28, 29, 30, 31, 32, 33, 34, 35, 36, 37, 38, 39, 40, 41, 42, 43, 44, 45, 46, 47, 48, 49, 50, 51, 52, 53]\n",
      "Original vector:\n",
      "[15 16 17 18 19 20 21 22 23 24 25 26 27 28 29 30 31 32 33 34 35 36 37 38\n",
      " 39 40 41 42 43 44 45 46 47 48 49 50 51 52 53 54]\n",
      "All values except the first and last of the said vector:\n",
      "[16 17 18 19 20 21 22 23 24 25 26 27 28 29 30 31 32 33 34 35 36 37 38 39\n",
      " 40 41 42 43 44 45 46 47 48 49 50 51 52 53]\n"
     ]
    }
   ],
   "source": [
    "def arange(start,end):\n",
    "    lst = []\n",
    "    for i in range(start+1,end-1):\n",
    "        lst.append(i)\n",
    "    return lst\n",
    "print(\"All values except the first and last of the said vector:\")\n",
    "print(arange(15,55))\n",
    "v = np.arange(15,55)\n",
    "print(\"Original vector:\")\n",
    "print(v)\n",
    "print(\"All values except the first and last of the said vector:\")\n",
    "print(v[1:-1])"
   ]
  },
  {
   "cell_type": "markdown",
   "id": "98769e07",
   "metadata": {},
   "source": [
    "# 10-Write a NumPy program to create a vector of length 5 filled with arbitrary integers from 0 to 10 "
   ]
  },
  {
   "cell_type": "code",
   "execution_count": 107,
   "id": "91b34e68",
   "metadata": {},
   "outputs": [
    {
     "name": "stdout",
     "output_type": "stream",
     "text": [
      "Vector of length 5 filled with arbitrary integers from 0 to 10:\n",
      "[5, 4, 4, 3, 2]\n",
      "##################################################\n",
      "Vector of length 5 filled with arbitrary integers from 0 to 10:\n",
      "[ 2 10  8  5  3]\n"
     ]
    }
   ],
   "source": [
    "def rand(start,end,size):\n",
    "    lst = []\n",
    "    for i in range(size):\n",
    "        i = int(((end*0.55) - i+1) * 0.9)\n",
    "        lst.append(i)\n",
    "    return lst\n",
    "print(\"Vector of length 5 filled with arbitrary integers from 0 to 10:\")\n",
    "print(rand(0,10,5))\n",
    "print('#'*50)\n",
    "x = np.random.randint(0, 11, 5)\n",
    "print(\"Vector of length 5 filled with arbitrary integers from 0 to 10:\")\n",
    "print(x)"
   ]
  },
  {
   "cell_type": "markdown",
   "id": "7a463403",
   "metadata": {},
   "source": [
    "# 11-Write a NumPy program to create a 10x10 matrix, in which the elements on the borders will be equal to 1,and inside 0."
   ]
  },
  {
   "cell_type": "code",
   "execution_count": 115,
   "id": "c84f3909",
   "metadata": {},
   "outputs": [
    {
     "name": "stdout",
     "output_type": "stream",
     "text": [
      "10x10 matrix:\n",
      "[[1 1 1 1 1 1 1 1 1 1]\n",
      " [1 0 0 0 0 0 0 0 0 1]\n",
      " [1 0 0 0 0 0 0 0 0 1]\n",
      " [1 0 0 0 0 0 0 0 0 1]\n",
      " [1 0 0 0 0 0 0 0 0 1]\n",
      " [1 0 0 0 0 0 0 0 0 1]\n",
      " [1 0 0 0 0 0 0 0 0 1]\n",
      " [1 0 0 0 0 0 0 0 0 1]\n",
      " [1 0 0 0 0 0 0 0 0 1]\n",
      " [1 1 1 1 1 1 1 1 1 1]]\n",
      "##################################################\n",
      "[[1. 1. 1. 1. 1. 1. 1. 1. 1. 1.]\n",
      " [1. 0. 0. 0. 0. 0. 0. 0. 0. 1.]\n",
      " [1. 0. 0. 0. 0. 0. 0. 0. 0. 1.]\n",
      " [1. 0. 0. 0. 0. 0. 0. 0. 0. 1.]\n",
      " [1. 0. 0. 0. 0. 0. 0. 0. 0. 1.]\n",
      " [1. 0. 0. 0. 0. 0. 0. 0. 0. 1.]\n",
      " [1. 0. 0. 0. 0. 0. 0. 0. 0. 1.]\n",
      " [1. 0. 0. 0. 0. 0. 0. 0. 0. 1.]\n",
      " [1. 0. 0. 0. 0. 0. 0. 0. 0. 1.]\n",
      " [1. 1. 1. 1. 1. 1. 1. 1. 1. 1.]]\n"
     ]
    }
   ],
   "source": [
    "def array_2Dim(num1,num2):\n",
    "    lst1 = []\n",
    "    lst2 = []\n",
    "    for i in range(num1):\n",
    "        for i2 in range(num2):\n",
    "            if i == 0:\n",
    "                lst1.append(1)\n",
    "            elif i == num1 - 1:\n",
    "                lst1.append(1)\n",
    "            elif i2 == 0:\n",
    "                lst1.append(1)\n",
    "            elif i2 == num2 - 1:\n",
    "                lst1.append(1)\n",
    "            else:\n",
    "                lst1.append(0)\n",
    "        lst2.append(lst1)\n",
    "        lst1 = []\n",
    "    return np.array(lst2)\n",
    "print('10x10 matrix:')\n",
    "print(array_2Dim(10,10))\n",
    "print('#'*50)\n",
    "x = np.ones((10, 10))\n",
    "x[1:-1, 1:-1] = 0\n",
    "print(x)"
   ]
  },
  {
   "cell_type": "markdown",
   "id": "a2081395",
   "metadata": {},
   "source": [
    "# 12-Write a NumPy program to create a 5x5 zero matrix with elements on the main diagonal equal to 1, 2, 3, 4, 5."
   ]
  },
  {
   "cell_type": "code",
   "execution_count": 122,
   "id": "67b6f58f",
   "metadata": {},
   "outputs": [
    {
     "name": "stdout",
     "output_type": "stream",
     "text": [
      "[[1 0 0 0 0]\n",
      " [0 2 0 0 0]\n",
      " [0 0 3 0 0]\n",
      " [0 0 0 4 0]\n",
      " [0 0 0 0 5]]\n",
      "##################################################\n",
      "[[1 0 0 0 0]\n",
      " [0 2 0 0 0]\n",
      " [0 0 3 0 0]\n",
      " [0 0 0 4 0]\n",
      " [0 0 0 0 5]]\n",
      "##################################################\n",
      "[[1 0 0 0 0 0]\n",
      " [0 2 0 0 0 0]\n",
      " [0 0 3 0 0 0]\n",
      " [0 0 0 4 0 0]\n",
      " [0 0 0 0 5 0]\n",
      " [0 0 0 0 0 6]]\n"
     ]
    }
   ],
   "source": [
    "def array_2Dim(num1,num2):\n",
    "    lst1 = []\n",
    "    lst2 = []\n",
    "    for i in range(num1):\n",
    "        for i2 in range(num2):\n",
    "            if  i2 == i:\n",
    "                lst1.append(i+1)\n",
    "            else:\n",
    "                lst1.append(0)\n",
    "        lst2.append(lst1)\n",
    "        lst1 = []\n",
    "    return np.array(lst2)\n",
    "print(array_2Dim(5,5))\n",
    "print('#'*50)\n",
    "x = np.diag([1, 2, 3, 4, 5])\n",
    "print(x)\n",
    "print('#'*50)\n",
    "print(array_2Dim(6,6))"
   ]
  },
  {
   "cell_type": "markdown",
   "id": "d4c7466a",
   "metadata": {},
   "source": [
    "# 13-Write a NumPy program to create a 4x4 matrix in which 0 and 1 are staggered, with zeros on the main diagonal."
   ]
  },
  {
   "cell_type": "code",
   "execution_count": 169,
   "id": "322035f8",
   "metadata": {},
   "outputs": [
    {
     "name": "stdout",
     "output_type": "stream",
     "text": [
      "[[0 1 0 1]\n",
      " [1 0 1 0]\n",
      " [0 1 0 1]\n",
      " [1 0 1 0]]\n",
      "##################################################\n",
      "[[0. 1. 0. 1.]\n",
      " [1. 0. 1. 0.]\n",
      " [0. 1. 0. 1.]\n",
      " [1. 0. 1. 0.]]\n"
     ]
    }
   ],
   "source": [
    "def array_2Dim(num1,num2):\n",
    "    lst1 = []\n",
    "    lst2 = []\n",
    "    for i in range(num1):\n",
    "        for i2 in range(num2):\n",
    "            if i2 == i:\n",
    "                lst1.append(0)\n",
    "            elif i2 == i+1:\n",
    "                lst1.append(1)\n",
    "            elif i == i2+1:\n",
    "                lst1.append(1)\n",
    "            elif (i2 + 1) == num2 and i == 0:\n",
    "                lst1.append(1)\n",
    "            elif i-num2+1 == 0 and i2 == 0:\n",
    "                lst1.append(1)\n",
    "            else:\n",
    "                lst1.append(0)\n",
    "        lst2.append(lst1)\n",
    "        lst1 = []\n",
    "    return np.array(lst2)\n",
    "print(array_2Dim(4,4))\n",
    "print('#'*50)\n",
    "x = np.zeros((4, 4))\n",
    "x[::2, 1::2] = 1\n",
    "x[1::2, ::2] = 1\n",
    "print(x)"
   ]
  },
  {
   "cell_type": "markdown",
   "id": "9cf227e0",
   "metadata": {},
   "source": [
    "# 14-Write a NumPy program to save two given arrays into a single file in compressed format (.npz format) and load it."
   ]
  },
  {
   "cell_type": "code",
   "execution_count": 179,
   "id": "7f6d3f6e",
   "metadata": {},
   "outputs": [
    {
     "name": "stdout",
     "output_type": "stream",
     "text": [
      "Original arrays:\n",
      "[0 1 2 3 4 5 6 7 8 9]\n",
      "[11 12 13 14 15 16 17 18 19]\n",
      "##################################################\n",
      "load arrays from file\n",
      "[0 1 2 3 4 5 6 7 8 9]\n",
      "[11 12 13 14 15 16 17 18 19]\n",
      "##################################################\n",
      "Load arrays from the 'temp_arra.npz' file:\n",
      "[0 1 2 3 4 5 6 7 8 9]\n",
      "[11 12 13 14 15 16 17 18 19]\n"
     ]
    }
   ],
   "source": [
    "import os\n",
    "def save(v1,v2,name):\n",
    "    name = name+'.npz'\n",
    "    np.savez(name,first_column = v1,seconed_column = v2)\n",
    "def load(name):\n",
    "    name = name + '.npz'\n",
    "    with np.load(name) as data:\n",
    "        v1 = data['first_column']\n",
    "        v2 = data['seconed_column']\n",
    "        print(v1)\n",
    "        print(v2)\n",
    "x = np.arange(10)\n",
    "y = np.arange(11, 20)\n",
    "print(\"Original arrays:\")\n",
    "print(x)\n",
    "print(y)\n",
    "print('#'*50)\n",
    "print('load arrays from file')\n",
    "save(x,y,'try')\n",
    "load('try')\n",
    "print('#'*50)\n",
    "np.savez('temp_arra.npz', x=x, y=y)\n",
    "print(\"Load arrays from the 'temp_arra.npz' file:\")\n",
    "with np.load('temp_arra.npz') as data:\n",
    "    x2 = data['x']\n",
    "    y2 = data['y']\n",
    "    print(x2)\n",
    "    print(y2)"
   ]
  },
  {
   "cell_type": "markdown",
   "id": "62aae09a",
   "metadata": {},
   "source": [
    "# 15-Write a NumPy program to create a one dimensional array of forty pseudo-randomly generated values. Select "
   ]
  },
  {
   "cell_type": "code",
   "execution_count": 185,
   "id": "feb75dfa",
   "metadata": {},
   "outputs": [
    {
     "name": "stdout",
     "output_type": "stream",
     "text": [
      "[0.49500000000000005, 1.395, 2.295, 3.195, 4.095, 4.995, 5.895, 6.795, 7.695000000000001, 8.595, 9.495000000000001, 10.395000000000001, 11.295000000000002, 12.195, 13.095, 13.995000000000001, 14.895000000000001, 15.795000000000002, 16.695, 17.595000000000002, 18.495, 19.395, 20.295, 21.195, 22.095000000000002, 22.995, 23.895, 24.795, 25.695, 26.595000000000002, 27.495, 28.395, 29.294999999999998, 30.194999999999997, 31.095, 31.994999999999997, 32.894999999999996, 33.795, 34.695, 35.595]\n",
      "##################################################\n",
      "[0.77132064 0.02075195 0.63364823 0.74880388 0.49850701 0.22479665\n",
      " 0.19806286 0.76053071 0.16911084 0.08833981 0.68535982 0.95339335\n",
      " 0.00394827 0.51219226 0.81262096 0.61252607 0.72175532 0.29187607\n",
      " 0.91777412 0.71457578 0.54254437 0.14217005 0.37334076 0.67413362\n",
      " 0.44183317 0.43401399 0.61776698 0.51313824 0.65039718 0.60103895\n",
      " 0.8052232  0.52164715 0.90864888 0.31923609 0.09045935 0.30070006\n",
      " 0.11398436 0.82868133 0.04689632 0.62628715]\n"
     ]
    }
   ],
   "source": [
    "def rand(start,end,size):\n",
    "    lst = []\n",
    "    for i in range(size):\n",
    "        i = (i+end*0.55) *0.9\n",
    "        lst.append(i)\n",
    "    return lst\n",
    "print(rand(0,1,40))\n",
    "print('#'*50)\n",
    "np.random.seed(10)\n",
    "print(np.random.rand(40))"
   ]
  },
  {
   "cell_type": "markdown",
   "id": "a77d1eff",
   "metadata": {},
   "source": [
    "# 16-Write a NumPy program to extract all numbers from a given array which are less and greater than a specified number"
   ]
  },
  {
   "cell_type": "code",
   "execution_count": 192,
   "id": "dcea49fd",
   "metadata": {},
   "outputs": [
    {
     "name": "stdout",
     "output_type": "stream",
     "text": [
      "Original array:\n",
      "[[5.54 3.38 7.99]\n",
      " [3.54 4.38 6.99]\n",
      " [1.54 2.39 9.29]]\n",
      "##################################################\n",
      "Elements of the said array greater than 5\n",
      "[5.54, 7.99, 6.99, 9.29]\n",
      "##################################################\n",
      "Elements of the said array less than 6\n",
      "[5.54, 3.38, 3.54, 4.38, 1.54, 2.39]\n",
      "##################################################\n",
      "\n",
      "Elements of the said array greater than 5\n",
      "[5.54 7.99 6.99 9.29]\n",
      "##################################################\n",
      "\n",
      "Elements of the said array less than 6\n",
      "[5.54 3.38 3.54 4.38 1.54 2.39]\n"
     ]
    }
   ],
   "source": [
    "def greater(num,array):\n",
    "    lst = []\n",
    "    for nums in array:\n",
    "        for i in nums:\n",
    "            if i > num:\n",
    "                lst.append(i)\n",
    "    return lst\n",
    "def less(num,array):\n",
    "    lst = []\n",
    "    for nums in array:\n",
    "        for i in nums:\n",
    "            if i < num:\n",
    "                lst.append(i)\n",
    "    return lst\n",
    "array = np.array([[5.54, 3.38, 7.99],\n",
    "              [3.54, 4.38, 6.99],\n",
    "              [1.54, 2.39, 9.29]])\n",
    "print(\"Original array:\")\n",
    "print(array)\n",
    "print('#'*50)\n",
    "print(\"Elements of the said array greater than\",5)\n",
    "print(greater(5,array))\n",
    "print('#'*50)\n",
    "print(\"Elements of the said array less than\",6)\n",
    "print(less(6,array))\n",
    "print('#'*50)\n",
    "n = 5\n",
    "print(\"\\nElements of the said array greater than\",n)\n",
    "print(nums[nums > n])\n",
    "print('#'*50)\n",
    "n = 6\n",
    "print(\"\\nElements of the said array less than\",n)\n",
    "print(nums[nums < n])"
   ]
  }
 ],
 "metadata": {
  "kernelspec": {
   "display_name": "Python 3 (ipykernel)",
   "language": "python",
   "name": "python3"
  },
  "language_info": {
   "codemirror_mode": {
    "name": "ipython",
    "version": 3
   },
   "file_extension": ".py",
   "mimetype": "text/x-python",
   "name": "python",
   "nbconvert_exporter": "python",
   "pygments_lexer": "ipython3",
   "version": "3.9.13"
  }
 },
 "nbformat": 4,
 "nbformat_minor": 5
}
